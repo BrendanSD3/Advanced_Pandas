{
 "cells": [
  {
   "cell_type": "markdown",
   "metadata": {},
   "source": [
    "## Python Basics + NumPy & Pandas "
   ]
  },
  {
   "cell_type": "markdown",
   "metadata": {},
   "source": [
    "Setup"
   ]
  },
  {
   "cell_type": "code",
   "execution_count": 2,
   "metadata": {},
   "outputs": [],
   "source": [
    "import numpy as np\n",
    "import pandas as pd"
   ]
  },
  {
   "cell_type": "markdown",
   "metadata": {},
   "source": [
    "import the FlightData csv from the Data folder"
   ]
  },
  {
   "cell_type": "code",
   "execution_count": 3,
   "metadata": {},
   "outputs": [
    {
     "data": {
      "text/html": [
       "<div>\n",
       "<style scoped>\n",
       "    .dataframe tbody tr th:only-of-type {\n",
       "        vertical-align: middle;\n",
       "    }\n",
       "\n",
       "    .dataframe tbody tr th {\n",
       "        vertical-align: top;\n",
       "    }\n",
       "\n",
       "    .dataframe thead th {\n",
       "        text-align: right;\n",
       "    }\n",
       "</style>\n",
       "<table border=\"1\" class=\"dataframe\">\n",
       "  <thead>\n",
       "    <tr style=\"text-align: right;\">\n",
       "      <th></th>\n",
       "      <th>Distance (miles)</th>\n",
       "      <th>Cost (USD)</th>\n",
       "    </tr>\n",
       "  </thead>\n",
       "  <tbody>\n",
       "    <tr>\n",
       "      <th>0</th>\n",
       "      <td>337</td>\n",
       "      <td>59.50</td>\n",
       "    </tr>\n",
       "    <tr>\n",
       "      <th>1</th>\n",
       "      <td>2565</td>\n",
       "      <td>509.50</td>\n",
       "    </tr>\n",
       "    <tr>\n",
       "      <th>2</th>\n",
       "      <td>967</td>\n",
       "      <td>124.50</td>\n",
       "    </tr>\n",
       "    <tr>\n",
       "      <th>3</th>\n",
       "      <td>5124</td>\n",
       "      <td>1480.40</td>\n",
       "    </tr>\n",
       "    <tr>\n",
       "      <th>4</th>\n",
       "      <td>2398</td>\n",
       "      <td>696.23</td>\n",
       "    </tr>\n",
       "    <tr>\n",
       "      <th>5</th>\n",
       "      <td>2586</td>\n",
       "      <td>559.50</td>\n",
       "    </tr>\n",
       "    <tr>\n",
       "      <th>6</th>\n",
       "      <td>7412</td>\n",
       "      <td>1481.50</td>\n",
       "    </tr>\n",
       "    <tr>\n",
       "      <th>7</th>\n",
       "      <td>522</td>\n",
       "      <td>474.50</td>\n",
       "    </tr>\n",
       "    <tr>\n",
       "      <th>8</th>\n",
       "      <td>1499</td>\n",
       "      <td>737.50</td>\n",
       "    </tr>\n",
       "  </tbody>\n",
       "</table>\n",
       "</div>"
      ],
      "text/plain": [
       "   Distance (miles)  Cost (USD)\n",
       "0               337       59.50\n",
       "1              2565      509.50\n",
       "2               967      124.50\n",
       "3              5124     1480.40\n",
       "4              2398      696.23\n",
       "5              2586      559.50\n",
       "6              7412     1481.50\n",
       "7               522      474.50\n",
       "8              1499      737.50"
      ]
     },
     "execution_count": 3,
     "metadata": {},
     "output_type": "execute_result"
    }
   ],
   "source": [
    "flights = pd.read_csv(\"Data\\FlightData.csv\") \n",
    "flights"
   ]
  },
  {
   "cell_type": "markdown",
   "metadata": {},
   "source": [
    "Check the data types for the flight data.<br> First check each series individually then check the panda data frame types"
   ]
  },
  {
   "cell_type": "code",
   "execution_count": 21,
   "metadata": {},
   "outputs": [
    {
     "data": {
      "text/plain": [
       "dtype('int64')"
      ]
     },
     "execution_count": 21,
     "metadata": {},
     "output_type": "execute_result"
    }
   ],
   "source": [
    "flights[\"Distance (miles)\"].dtype"
   ]
  },
  {
   "cell_type": "code",
   "execution_count": 24,
   "metadata": {},
   "outputs": [
    {
     "data": {
      "text/plain": [
       "dtype('float64')"
      ]
     },
     "execution_count": 24,
     "metadata": {},
     "output_type": "execute_result"
    }
   ],
   "source": [
    "flights[\"Cost (USD)\"].dtype"
   ]
  },
  {
   "cell_type": "code",
   "execution_count": 26,
   "metadata": {},
   "outputs": [
    {
     "data": {
      "text/plain": [
       "Distance (miles)      int64\n",
       "Cost (USD)          float64\n",
       "dtype: object"
      ]
     },
     "execution_count": 26,
     "metadata": {},
     "output_type": "execute_result"
    }
   ],
   "source": [
    "flights.dtypes"
   ]
  },
  {
   "cell_type": "markdown",
   "metadata": {},
   "source": [
    "Order the data from shortest distance to longest distance"
   ]
  },
  {
   "cell_type": "code",
   "execution_count": 28,
   "metadata": {},
   "outputs": [
    {
     "data": {
      "text/html": [
       "<div>\n",
       "<style scoped>\n",
       "    .dataframe tbody tr th:only-of-type {\n",
       "        vertical-align: middle;\n",
       "    }\n",
       "\n",
       "    .dataframe tbody tr th {\n",
       "        vertical-align: top;\n",
       "    }\n",
       "\n",
       "    .dataframe thead th {\n",
       "        text-align: right;\n",
       "    }\n",
       "</style>\n",
       "<table border=\"1\" class=\"dataframe\">\n",
       "  <thead>\n",
       "    <tr style=\"text-align: right;\">\n",
       "      <th></th>\n",
       "      <th>Distance (miles)</th>\n",
       "      <th>Cost (USD)</th>\n",
       "    </tr>\n",
       "  </thead>\n",
       "  <tbody>\n",
       "    <tr>\n",
       "      <th>0</th>\n",
       "      <td>337</td>\n",
       "      <td>59.50</td>\n",
       "    </tr>\n",
       "    <tr>\n",
       "      <th>7</th>\n",
       "      <td>522</td>\n",
       "      <td>474.50</td>\n",
       "    </tr>\n",
       "    <tr>\n",
       "      <th>2</th>\n",
       "      <td>967</td>\n",
       "      <td>124.50</td>\n",
       "    </tr>\n",
       "    <tr>\n",
       "      <th>8</th>\n",
       "      <td>1499</td>\n",
       "      <td>737.50</td>\n",
       "    </tr>\n",
       "    <tr>\n",
       "      <th>4</th>\n",
       "      <td>2398</td>\n",
       "      <td>696.23</td>\n",
       "    </tr>\n",
       "    <tr>\n",
       "      <th>1</th>\n",
       "      <td>2565</td>\n",
       "      <td>509.50</td>\n",
       "    </tr>\n",
       "    <tr>\n",
       "      <th>5</th>\n",
       "      <td>2586</td>\n",
       "      <td>559.50</td>\n",
       "    </tr>\n",
       "    <tr>\n",
       "      <th>3</th>\n",
       "      <td>5124</td>\n",
       "      <td>1480.40</td>\n",
       "    </tr>\n",
       "    <tr>\n",
       "      <th>6</th>\n",
       "      <td>7412</td>\n",
       "      <td>1481.50</td>\n",
       "    </tr>\n",
       "  </tbody>\n",
       "</table>\n",
       "</div>"
      ],
      "text/plain": [
       "   Distance (miles)  Cost (USD)\n",
       "0               337       59.50\n",
       "7               522      474.50\n",
       "2               967      124.50\n",
       "8              1499      737.50\n",
       "4              2398      696.23\n",
       "1              2565      509.50\n",
       "5              2586      559.50\n",
       "3              5124     1480.40\n",
       "6              7412     1481.50"
      ]
     },
     "execution_count": 28,
     "metadata": {},
     "output_type": "execute_result"
    }
   ],
   "source": [
    "flights.sort_values(by=\"Distance (miles)\", inplace = True)\n",
    "flights"
   ]
  },
  {
   "cell_type": "markdown",
   "metadata": {},
   "source": [
    "Add a column that shows the price per mile of each trip"
   ]
  },
  {
   "cell_type": "code",
   "execution_count": 31,
   "metadata": {},
   "outputs": [
    {
     "data": {
      "text/html": [
       "<div>\n",
       "<style scoped>\n",
       "    .dataframe tbody tr th:only-of-type {\n",
       "        vertical-align: middle;\n",
       "    }\n",
       "\n",
       "    .dataframe tbody tr th {\n",
       "        vertical-align: top;\n",
       "    }\n",
       "\n",
       "    .dataframe thead th {\n",
       "        text-align: right;\n",
       "    }\n",
       "</style>\n",
       "<table border=\"1\" class=\"dataframe\">\n",
       "  <thead>\n",
       "    <tr style=\"text-align: right;\">\n",
       "      <th></th>\n",
       "      <th>Distance (miles)</th>\n",
       "      <th>Cost (USD)</th>\n",
       "      <th>Cost per Mile</th>\n",
       "    </tr>\n",
       "  </thead>\n",
       "  <tbody>\n",
       "    <tr>\n",
       "      <th>0</th>\n",
       "      <td>337</td>\n",
       "      <td>59.50</td>\n",
       "      <td>5.663866</td>\n",
       "    </tr>\n",
       "    <tr>\n",
       "      <th>7</th>\n",
       "      <td>522</td>\n",
       "      <td>474.50</td>\n",
       "      <td>1.100105</td>\n",
       "    </tr>\n",
       "    <tr>\n",
       "      <th>2</th>\n",
       "      <td>967</td>\n",
       "      <td>124.50</td>\n",
       "      <td>7.767068</td>\n",
       "    </tr>\n",
       "    <tr>\n",
       "      <th>8</th>\n",
       "      <td>1499</td>\n",
       "      <td>737.50</td>\n",
       "      <td>2.032542</td>\n",
       "    </tr>\n",
       "    <tr>\n",
       "      <th>4</th>\n",
       "      <td>2398</td>\n",
       "      <td>696.23</td>\n",
       "      <td>3.444264</td>\n",
       "    </tr>\n",
       "    <tr>\n",
       "      <th>1</th>\n",
       "      <td>2565</td>\n",
       "      <td>509.50</td>\n",
       "      <td>5.034347</td>\n",
       "    </tr>\n",
       "    <tr>\n",
       "      <th>5</th>\n",
       "      <td>2586</td>\n",
       "      <td>559.50</td>\n",
       "      <td>4.621984</td>\n",
       "    </tr>\n",
       "    <tr>\n",
       "      <th>3</th>\n",
       "      <td>5124</td>\n",
       "      <td>1480.40</td>\n",
       "      <td>3.461227</td>\n",
       "    </tr>\n",
       "    <tr>\n",
       "      <th>6</th>\n",
       "      <td>7412</td>\n",
       "      <td>1481.50</td>\n",
       "      <td>5.003037</td>\n",
       "    </tr>\n",
       "  </tbody>\n",
       "</table>\n",
       "</div>"
      ],
      "text/plain": [
       "   Distance (miles)  Cost (USD)  Cost per Mile\n",
       "0               337       59.50       5.663866\n",
       "7               522      474.50       1.100105\n",
       "2               967      124.50       7.767068\n",
       "8              1499      737.50       2.032542\n",
       "4              2398      696.23       3.444264\n",
       "1              2565      509.50       5.034347\n",
       "5              2586      559.50       4.621984\n",
       "3              5124     1480.40       3.461227\n",
       "6              7412     1481.50       5.003037"
      ]
     },
     "execution_count": 31,
     "metadata": {},
     "output_type": "execute_result"
    }
   ],
   "source": [
    "flights[\"Cost per Mile\"]=flights[\"Distance (miles)\"]/flights[\"Cost (USD)\"]\n",
    "flights"
   ]
  },
  {
   "cell_type": "markdown",
   "metadata": {},
   "source": [
    "Use the <b>describe()</b> funtion to see the min max and average Cost per mile"
   ]
  },
  {
   "cell_type": "code",
   "execution_count": 35,
   "metadata": {},
   "outputs": [
    {
     "data": {
      "text/plain": [
       "count    9.000000\n",
       "mean     4.236493\n",
       "std      1.993681\n",
       "min      1.100105\n",
       "25%      3.444264\n",
       "50%      4.621984\n",
       "75%      5.034347\n",
       "max      7.767068\n",
       "Name: Cost per Mile, dtype: float64"
      ]
     },
     "execution_count": 35,
     "metadata": {},
     "output_type": "execute_result"
    }
   ],
   "source": [
    "flights[\"Cost per Mile\"].describe()"
   ]
  },
  {
   "cell_type": "markdown",
   "metadata": {},
   "source": [
    "Print the dataframe out to the notebook<br> Do you notice any general trend in the Cost per mile?"
   ]
  },
  {
   "cell_type": "code",
   "execution_count": 47,
   "metadata": {},
   "outputs": [
    {
     "data": {
      "text/html": [
       "<div>\n",
       "<style scoped>\n",
       "    .dataframe tbody tr th:only-of-type {\n",
       "        vertical-align: middle;\n",
       "    }\n",
       "\n",
       "    .dataframe tbody tr th {\n",
       "        vertical-align: top;\n",
       "    }\n",
       "\n",
       "    .dataframe thead th {\n",
       "        text-align: right;\n",
       "    }\n",
       "</style>\n",
       "<table border=\"1\" class=\"dataframe\">\n",
       "  <thead>\n",
       "    <tr style=\"text-align: right;\">\n",
       "      <th></th>\n",
       "      <th>Distance (miles)</th>\n",
       "      <th>Cost (USD)</th>\n",
       "      <th>Cost per Mile</th>\n",
       "      <th>Diff from avg CPM</th>\n",
       "      <th>Abs Diff from avg CPM</th>\n",
       "    </tr>\n",
       "  </thead>\n",
       "  <tbody>\n",
       "    <tr>\n",
       "      <th>0</th>\n",
       "      <td>337</td>\n",
       "      <td>59.50</td>\n",
       "      <td>5.663866</td>\n",
       "      <td>1.427372</td>\n",
       "      <td>1.427372</td>\n",
       "    </tr>\n",
       "    <tr>\n",
       "      <th>7</th>\n",
       "      <td>522</td>\n",
       "      <td>474.50</td>\n",
       "      <td>1.100105</td>\n",
       "      <td>-3.136388</td>\n",
       "      <td>3.136388</td>\n",
       "    </tr>\n",
       "    <tr>\n",
       "      <th>2</th>\n",
       "      <td>967</td>\n",
       "      <td>124.50</td>\n",
       "      <td>7.767068</td>\n",
       "      <td>3.530575</td>\n",
       "      <td>3.530575</td>\n",
       "    </tr>\n",
       "    <tr>\n",
       "      <th>8</th>\n",
       "      <td>1499</td>\n",
       "      <td>737.50</td>\n",
       "      <td>2.032542</td>\n",
       "      <td>-2.203951</td>\n",
       "      <td>2.203951</td>\n",
       "    </tr>\n",
       "    <tr>\n",
       "      <th>4</th>\n",
       "      <td>2398</td>\n",
       "      <td>696.23</td>\n",
       "      <td>3.444264</td>\n",
       "      <td>-0.792229</td>\n",
       "      <td>0.792229</td>\n",
       "    </tr>\n",
       "    <tr>\n",
       "      <th>1</th>\n",
       "      <td>2565</td>\n",
       "      <td>509.50</td>\n",
       "      <td>5.034347</td>\n",
       "      <td>0.797854</td>\n",
       "      <td>0.797854</td>\n",
       "    </tr>\n",
       "    <tr>\n",
       "      <th>5</th>\n",
       "      <td>2586</td>\n",
       "      <td>559.50</td>\n",
       "      <td>4.621984</td>\n",
       "      <td>0.385490</td>\n",
       "      <td>0.385490</td>\n",
       "    </tr>\n",
       "    <tr>\n",
       "      <th>3</th>\n",
       "      <td>5124</td>\n",
       "      <td>1480.40</td>\n",
       "      <td>3.461227</td>\n",
       "      <td>-0.775267</td>\n",
       "      <td>0.775267</td>\n",
       "    </tr>\n",
       "    <tr>\n",
       "      <th>6</th>\n",
       "      <td>7412</td>\n",
       "      <td>1481.50</td>\n",
       "      <td>5.003037</td>\n",
       "      <td>0.766544</td>\n",
       "      <td>0.766544</td>\n",
       "    </tr>\n",
       "  </tbody>\n",
       "</table>\n",
       "</div>"
      ],
      "text/plain": [
       "   Distance (miles)  Cost (USD)  Cost per Mile  Diff from avg CPM  \\\n",
       "0               337       59.50       5.663866           1.427372   \n",
       "7               522      474.50       1.100105          -3.136388   \n",
       "2               967      124.50       7.767068           3.530575   \n",
       "8              1499      737.50       2.032542          -2.203951   \n",
       "4              2398      696.23       3.444264          -0.792229   \n",
       "1              2565      509.50       5.034347           0.797854   \n",
       "5              2586      559.50       4.621984           0.385490   \n",
       "3              5124     1480.40       3.461227          -0.775267   \n",
       "6              7412     1481.50       5.003037           0.766544   \n",
       "\n",
       "   Abs Diff from avg CPM  \n",
       "0               1.427372  \n",
       "7               3.136388  \n",
       "2               3.530575  \n",
       "8               2.203951  \n",
       "4               0.792229  \n",
       "1               0.797854  \n",
       "5               0.385490  \n",
       "3               0.775267  \n",
       "6               0.766544  "
      ]
     },
     "execution_count": 47,
     "metadata": {},
     "output_type": "execute_result"
    }
   ],
   "source": [
    "\n",
    "flights"
   ]
  },
  {
   "cell_type": "markdown",
   "metadata": {},
   "source": [
    "Save the \"average cost per mile\" to a variable"
   ]
  },
  {
   "cell_type": "code",
   "execution_count": 38,
   "metadata": {},
   "outputs": [
    {
     "data": {
      "text/plain": [
       "4.236493460615012"
      ]
     },
     "execution_count": 38,
     "metadata": {},
     "output_type": "execute_result"
    }
   ],
   "source": [
    "avg_cost_per_mile=flights[\"Cost per Mile\"].mean()\n",
    "avg_cost_per_mile"
   ]
  },
  {
   "cell_type": "markdown",
   "metadata": {},
   "source": [
    "Add another column to the dataframe that shows the difference in cost per mile from the average cost per mile"
   ]
  },
  {
   "cell_type": "code",
   "execution_count": 45,
   "metadata": {},
   "outputs": [
    {
     "data": {
      "text/html": [
       "<div>\n",
       "<style scoped>\n",
       "    .dataframe tbody tr th:only-of-type {\n",
       "        vertical-align: middle;\n",
       "    }\n",
       "\n",
       "    .dataframe tbody tr th {\n",
       "        vertical-align: top;\n",
       "    }\n",
       "\n",
       "    .dataframe thead th {\n",
       "        text-align: right;\n",
       "    }\n",
       "</style>\n",
       "<table border=\"1\" class=\"dataframe\">\n",
       "  <thead>\n",
       "    <tr style=\"text-align: right;\">\n",
       "      <th></th>\n",
       "      <th>Distance (miles)</th>\n",
       "      <th>Cost (USD)</th>\n",
       "      <th>Cost per Mile</th>\n",
       "      <th>Diff from avg CPM</th>\n",
       "    </tr>\n",
       "  </thead>\n",
       "  <tbody>\n",
       "    <tr>\n",
       "      <th>0</th>\n",
       "      <td>337</td>\n",
       "      <td>59.50</td>\n",
       "      <td>5.663866</td>\n",
       "      <td>1.427372</td>\n",
       "    </tr>\n",
       "    <tr>\n",
       "      <th>7</th>\n",
       "      <td>522</td>\n",
       "      <td>474.50</td>\n",
       "      <td>1.100105</td>\n",
       "      <td>-3.136388</td>\n",
       "    </tr>\n",
       "    <tr>\n",
       "      <th>2</th>\n",
       "      <td>967</td>\n",
       "      <td>124.50</td>\n",
       "      <td>7.767068</td>\n",
       "      <td>3.530575</td>\n",
       "    </tr>\n",
       "    <tr>\n",
       "      <th>8</th>\n",
       "      <td>1499</td>\n",
       "      <td>737.50</td>\n",
       "      <td>2.032542</td>\n",
       "      <td>-2.203951</td>\n",
       "    </tr>\n",
       "    <tr>\n",
       "      <th>4</th>\n",
       "      <td>2398</td>\n",
       "      <td>696.23</td>\n",
       "      <td>3.444264</td>\n",
       "      <td>-0.792229</td>\n",
       "    </tr>\n",
       "    <tr>\n",
       "      <th>1</th>\n",
       "      <td>2565</td>\n",
       "      <td>509.50</td>\n",
       "      <td>5.034347</td>\n",
       "      <td>0.797854</td>\n",
       "    </tr>\n",
       "    <tr>\n",
       "      <th>5</th>\n",
       "      <td>2586</td>\n",
       "      <td>559.50</td>\n",
       "      <td>4.621984</td>\n",
       "      <td>0.385490</td>\n",
       "    </tr>\n",
       "    <tr>\n",
       "      <th>3</th>\n",
       "      <td>5124</td>\n",
       "      <td>1480.40</td>\n",
       "      <td>3.461227</td>\n",
       "      <td>-0.775267</td>\n",
       "    </tr>\n",
       "    <tr>\n",
       "      <th>6</th>\n",
       "      <td>7412</td>\n",
       "      <td>1481.50</td>\n",
       "      <td>5.003037</td>\n",
       "      <td>0.766544</td>\n",
       "    </tr>\n",
       "  </tbody>\n",
       "</table>\n",
       "</div>"
      ],
      "text/plain": [
       "   Distance (miles)  Cost (USD)  Cost per Mile  Diff from avg CPM\n",
       "0               337       59.50       5.663866           1.427372\n",
       "7               522      474.50       1.100105          -3.136388\n",
       "2               967      124.50       7.767068           3.530575\n",
       "8              1499      737.50       2.032542          -2.203951\n",
       "4              2398      696.23       3.444264          -0.792229\n",
       "1              2565      509.50       5.034347           0.797854\n",
       "5              2586      559.50       4.621984           0.385490\n",
       "3              5124     1480.40       3.461227          -0.775267\n",
       "6              7412     1481.50       5.003037           0.766544"
      ]
     },
     "execution_count": 45,
     "metadata": {},
     "output_type": "execute_result"
    }
   ],
   "source": [
    "flights[\"Diff from avg CPM\"]=flights[\"Cost per Mile\"]-avg_cost_per_mile\n",
    "flights"
   ]
  },
  {
   "cell_type": "markdown",
   "metadata": {},
   "source": [
    "Add another column to the dataframe that shows the <i>absolute</i> difference in cost per mile from the average cost per mile"
   ]
  },
  {
   "cell_type": "code",
   "execution_count": 46,
   "metadata": {},
   "outputs": [
    {
     "data": {
      "text/html": [
       "<div>\n",
       "<style scoped>\n",
       "    .dataframe tbody tr th:only-of-type {\n",
       "        vertical-align: middle;\n",
       "    }\n",
       "\n",
       "    .dataframe tbody tr th {\n",
       "        vertical-align: top;\n",
       "    }\n",
       "\n",
       "    .dataframe thead th {\n",
       "        text-align: right;\n",
       "    }\n",
       "</style>\n",
       "<table border=\"1\" class=\"dataframe\">\n",
       "  <thead>\n",
       "    <tr style=\"text-align: right;\">\n",
       "      <th></th>\n",
       "      <th>Distance (miles)</th>\n",
       "      <th>Cost (USD)</th>\n",
       "      <th>Cost per Mile</th>\n",
       "      <th>Diff from avg CPM</th>\n",
       "      <th>Abs Diff from avg CPM</th>\n",
       "    </tr>\n",
       "  </thead>\n",
       "  <tbody>\n",
       "    <tr>\n",
       "      <th>0</th>\n",
       "      <td>337</td>\n",
       "      <td>59.50</td>\n",
       "      <td>5.663866</td>\n",
       "      <td>1.427372</td>\n",
       "      <td>1.427372</td>\n",
       "    </tr>\n",
       "    <tr>\n",
       "      <th>7</th>\n",
       "      <td>522</td>\n",
       "      <td>474.50</td>\n",
       "      <td>1.100105</td>\n",
       "      <td>-3.136388</td>\n",
       "      <td>3.136388</td>\n",
       "    </tr>\n",
       "    <tr>\n",
       "      <th>2</th>\n",
       "      <td>967</td>\n",
       "      <td>124.50</td>\n",
       "      <td>7.767068</td>\n",
       "      <td>3.530575</td>\n",
       "      <td>3.530575</td>\n",
       "    </tr>\n",
       "    <tr>\n",
       "      <th>8</th>\n",
       "      <td>1499</td>\n",
       "      <td>737.50</td>\n",
       "      <td>2.032542</td>\n",
       "      <td>-2.203951</td>\n",
       "      <td>2.203951</td>\n",
       "    </tr>\n",
       "    <tr>\n",
       "      <th>4</th>\n",
       "      <td>2398</td>\n",
       "      <td>696.23</td>\n",
       "      <td>3.444264</td>\n",
       "      <td>-0.792229</td>\n",
       "      <td>0.792229</td>\n",
       "    </tr>\n",
       "    <tr>\n",
       "      <th>1</th>\n",
       "      <td>2565</td>\n",
       "      <td>509.50</td>\n",
       "      <td>5.034347</td>\n",
       "      <td>0.797854</td>\n",
       "      <td>0.797854</td>\n",
       "    </tr>\n",
       "    <tr>\n",
       "      <th>5</th>\n",
       "      <td>2586</td>\n",
       "      <td>559.50</td>\n",
       "      <td>4.621984</td>\n",
       "      <td>0.385490</td>\n",
       "      <td>0.385490</td>\n",
       "    </tr>\n",
       "    <tr>\n",
       "      <th>3</th>\n",
       "      <td>5124</td>\n",
       "      <td>1480.40</td>\n",
       "      <td>3.461227</td>\n",
       "      <td>-0.775267</td>\n",
       "      <td>0.775267</td>\n",
       "    </tr>\n",
       "    <tr>\n",
       "      <th>6</th>\n",
       "      <td>7412</td>\n",
       "      <td>1481.50</td>\n",
       "      <td>5.003037</td>\n",
       "      <td>0.766544</td>\n",
       "      <td>0.766544</td>\n",
       "    </tr>\n",
       "  </tbody>\n",
       "</table>\n",
       "</div>"
      ],
      "text/plain": [
       "   Distance (miles)  Cost (USD)  Cost per Mile  Diff from avg CPM  \\\n",
       "0               337       59.50       5.663866           1.427372   \n",
       "7               522      474.50       1.100105          -3.136388   \n",
       "2               967      124.50       7.767068           3.530575   \n",
       "8              1499      737.50       2.032542          -2.203951   \n",
       "4              2398      696.23       3.444264          -0.792229   \n",
       "1              2565      509.50       5.034347           0.797854   \n",
       "5              2586      559.50       4.621984           0.385490   \n",
       "3              5124     1480.40       3.461227          -0.775267   \n",
       "6              7412     1481.50       5.003037           0.766544   \n",
       "\n",
       "   Abs Diff from avg CPM  \n",
       "0               1.427372  \n",
       "7               3.136388  \n",
       "2               3.530575  \n",
       "8               2.203951  \n",
       "4               0.792229  \n",
       "1               0.797854  \n",
       "5               0.385490  \n",
       "3               0.775267  \n",
       "6               0.766544  "
      ]
     },
     "execution_count": 46,
     "metadata": {},
     "output_type": "execute_result"
    }
   ],
   "source": [
    "flights[\"Abs Diff from avg CPM\"]=abs(flights[\"Diff from avg CPM\"])\n",
    "flights"
   ]
  },
  {
   "cell_type": "markdown",
   "metadata": {},
   "source": [
    "Using one line of code for each - do the following:<br><br>\n",
    "Select the flight that has the lowest cost per mile<br>\n",
    "Select the flight that has the highest cost per mile<br>\n",
    "Select the flight that is the closest to the average cost per mile<br>\n",
    "\n"
   ]
  },
  {
   "cell_type": "code",
   "execution_count": 57,
   "metadata": {},
   "outputs": [
    {
     "name": "stdout",
     "output_type": "stream",
     "text": [
      "   Distance (miles)  Cost (USD)  Cost per Mile  Diff from avg CPM  \\\n",
      "7               522       474.5       1.100105          -3.136388   \n",
      "\n",
      "   Abs Diff from avg CPM  \n",
      "7               3.136388  \n"
     ]
    }
   ],
   "source": [
    "print(flights[flights[\"Cost per Mile\"] == flights[\"Cost per Mile\"].min()]) "
   ]
  },
  {
   "cell_type": "code",
   "execution_count": 56,
   "metadata": {},
   "outputs": [
    {
     "name": "stdout",
     "output_type": "stream",
     "text": [
      "   Distance (miles)  Cost (USD)  Cost per Mile  Diff from avg CPM  \\\n",
      "2               967       124.5       7.767068           3.530575   \n",
      "\n",
      "   Abs Diff from avg CPM  \n",
      "2               3.530575  \n"
     ]
    }
   ],
   "source": [
    "print(flights[flights[\"Cost per Mile\"] == flights[\"Cost per Mile\"].max()]) "
   ]
  },
  {
   "cell_type": "code",
   "execution_count": 58,
   "metadata": {},
   "outputs": [
    {
     "name": "stdout",
     "output_type": "stream",
     "text": [
      "   Distance (miles)  Cost (USD)  Cost per Mile  Diff from avg CPM  \\\n",
      "5              2586       559.5       4.621984            0.38549   \n",
      "\n",
      "   Abs Diff from avg CPM  \n",
      "5                0.38549  \n"
     ]
    }
   ],
   "source": [
    "print(flights[flights[\"Abs Diff from avg CPM\"] == flights[\"Abs Diff from avg CPM\"].min()]) "
   ]
  },
  {
   "cell_type": "markdown",
   "metadata": {},
   "source": [
    "Select the top three flights in terms of Cost per Mile<br>\n",
    "Select the bottom three flights in terms of Cost per Mile<br>\n",
    "<br>\n",
    "Compare the two sub-sets - are there any general trends evident? \n"
   ]
  },
  {
   "cell_type": "code",
   "execution_count": 52,
   "metadata": {},
   "outputs": [
    {
     "data": {
      "text/html": [
       "<div>\n",
       "<style scoped>\n",
       "    .dataframe tbody tr th:only-of-type {\n",
       "        vertical-align: middle;\n",
       "    }\n",
       "\n",
       "    .dataframe tbody tr th {\n",
       "        vertical-align: top;\n",
       "    }\n",
       "\n",
       "    .dataframe thead th {\n",
       "        text-align: right;\n",
       "    }\n",
       "</style>\n",
       "<table border=\"1\" class=\"dataframe\">\n",
       "  <thead>\n",
       "    <tr style=\"text-align: right;\">\n",
       "      <th></th>\n",
       "      <th>Distance (miles)</th>\n",
       "      <th>Cost (USD)</th>\n",
       "      <th>Cost per Mile</th>\n",
       "      <th>Diff from avg CPM</th>\n",
       "      <th>Abs Diff from avg CPM</th>\n",
       "    </tr>\n",
       "  </thead>\n",
       "  <tbody>\n",
       "    <tr>\n",
       "      <th>7</th>\n",
       "      <td>522</td>\n",
       "      <td>474.50</td>\n",
       "      <td>1.100105</td>\n",
       "      <td>-3.136388</td>\n",
       "      <td>3.136388</td>\n",
       "    </tr>\n",
       "    <tr>\n",
       "      <th>8</th>\n",
       "      <td>1499</td>\n",
       "      <td>737.50</td>\n",
       "      <td>2.032542</td>\n",
       "      <td>-2.203951</td>\n",
       "      <td>2.203951</td>\n",
       "    </tr>\n",
       "    <tr>\n",
       "      <th>4</th>\n",
       "      <td>2398</td>\n",
       "      <td>696.23</td>\n",
       "      <td>3.444264</td>\n",
       "      <td>-0.792229</td>\n",
       "      <td>0.792229</td>\n",
       "    </tr>\n",
       "    <tr>\n",
       "      <th>3</th>\n",
       "      <td>5124</td>\n",
       "      <td>1480.40</td>\n",
       "      <td>3.461227</td>\n",
       "      <td>-0.775267</td>\n",
       "      <td>0.775267</td>\n",
       "    </tr>\n",
       "    <tr>\n",
       "      <th>5</th>\n",
       "      <td>2586</td>\n",
       "      <td>559.50</td>\n",
       "      <td>4.621984</td>\n",
       "      <td>0.385490</td>\n",
       "      <td>0.385490</td>\n",
       "    </tr>\n",
       "    <tr>\n",
       "      <th>6</th>\n",
       "      <td>7412</td>\n",
       "      <td>1481.50</td>\n",
       "      <td>5.003037</td>\n",
       "      <td>0.766544</td>\n",
       "      <td>0.766544</td>\n",
       "    </tr>\n",
       "    <tr>\n",
       "      <th>1</th>\n",
       "      <td>2565</td>\n",
       "      <td>509.50</td>\n",
       "      <td>5.034347</td>\n",
       "      <td>0.797854</td>\n",
       "      <td>0.797854</td>\n",
       "    </tr>\n",
       "    <tr>\n",
       "      <th>0</th>\n",
       "      <td>337</td>\n",
       "      <td>59.50</td>\n",
       "      <td>5.663866</td>\n",
       "      <td>1.427372</td>\n",
       "      <td>1.427372</td>\n",
       "    </tr>\n",
       "    <tr>\n",
       "      <th>2</th>\n",
       "      <td>967</td>\n",
       "      <td>124.50</td>\n",
       "      <td>7.767068</td>\n",
       "      <td>3.530575</td>\n",
       "      <td>3.530575</td>\n",
       "    </tr>\n",
       "  </tbody>\n",
       "</table>\n",
       "</div>"
      ],
      "text/plain": [
       "   Distance (miles)  Cost (USD)  Cost per Mile  Diff from avg CPM  \\\n",
       "7               522      474.50       1.100105          -3.136388   \n",
       "8              1499      737.50       2.032542          -2.203951   \n",
       "4              2398      696.23       3.444264          -0.792229   \n",
       "3              5124     1480.40       3.461227          -0.775267   \n",
       "5              2586      559.50       4.621984           0.385490   \n",
       "6              7412     1481.50       5.003037           0.766544   \n",
       "1              2565      509.50       5.034347           0.797854   \n",
       "0               337       59.50       5.663866           1.427372   \n",
       "2               967      124.50       7.767068           3.530575   \n",
       "\n",
       "   Abs Diff from avg CPM  \n",
       "7               3.136388  \n",
       "8               2.203951  \n",
       "4               0.792229  \n",
       "3               0.775267  \n",
       "5               0.385490  \n",
       "6               0.766544  \n",
       "1               0.797854  \n",
       "0               1.427372  \n",
       "2               3.530575  "
      ]
     },
     "execution_count": 52,
     "metadata": {},
     "output_type": "execute_result"
    }
   ],
   "source": [
    "flights.sort_values(by=\"Cost per Mile\", inplace=True)\n",
    "\n",
    "flights\n"
   ]
  },
  {
   "cell_type": "code",
   "execution_count": 53,
   "metadata": {},
   "outputs": [
    {
     "data": {
      "text/html": [
       "<div>\n",
       "<style scoped>\n",
       "    .dataframe tbody tr th:only-of-type {\n",
       "        vertical-align: middle;\n",
       "    }\n",
       "\n",
       "    .dataframe tbody tr th {\n",
       "        vertical-align: top;\n",
       "    }\n",
       "\n",
       "    .dataframe thead th {\n",
       "        text-align: right;\n",
       "    }\n",
       "</style>\n",
       "<table border=\"1\" class=\"dataframe\">\n",
       "  <thead>\n",
       "    <tr style=\"text-align: right;\">\n",
       "      <th></th>\n",
       "      <th>Distance (miles)</th>\n",
       "      <th>Cost (USD)</th>\n",
       "      <th>Cost per Mile</th>\n",
       "      <th>Diff from avg CPM</th>\n",
       "      <th>Abs Diff from avg CPM</th>\n",
       "    </tr>\n",
       "  </thead>\n",
       "  <tbody>\n",
       "    <tr>\n",
       "      <th>7</th>\n",
       "      <td>522</td>\n",
       "      <td>474.50</td>\n",
       "      <td>1.100105</td>\n",
       "      <td>-3.136388</td>\n",
       "      <td>3.136388</td>\n",
       "    </tr>\n",
       "    <tr>\n",
       "      <th>8</th>\n",
       "      <td>1499</td>\n",
       "      <td>737.50</td>\n",
       "      <td>2.032542</td>\n",
       "      <td>-2.203951</td>\n",
       "      <td>2.203951</td>\n",
       "    </tr>\n",
       "    <tr>\n",
       "      <th>4</th>\n",
       "      <td>2398</td>\n",
       "      <td>696.23</td>\n",
       "      <td>3.444264</td>\n",
       "      <td>-0.792229</td>\n",
       "      <td>0.792229</td>\n",
       "    </tr>\n",
       "  </tbody>\n",
       "</table>\n",
       "</div>"
      ],
      "text/plain": [
       "   Distance (miles)  Cost (USD)  Cost per Mile  Diff from avg CPM  \\\n",
       "7               522      474.50       1.100105          -3.136388   \n",
       "8              1499      737.50       2.032542          -2.203951   \n",
       "4              2398      696.23       3.444264          -0.792229   \n",
       "\n",
       "   Abs Diff from avg CPM  \n",
       "7               3.136388  \n",
       "8               2.203951  \n",
       "4               0.792229  "
      ]
     },
     "execution_count": 53,
     "metadata": {},
     "output_type": "execute_result"
    }
   ],
   "source": [
    "bottom3_cpm = flights[:3]\n",
    "\n",
    "bottom3_cpm\n"
   ]
  },
  {
   "cell_type": "code",
   "execution_count": 54,
   "metadata": {},
   "outputs": [
    {
     "data": {
      "text/html": [
       "<div>\n",
       "<style scoped>\n",
       "    .dataframe tbody tr th:only-of-type {\n",
       "        vertical-align: middle;\n",
       "    }\n",
       "\n",
       "    .dataframe tbody tr th {\n",
       "        vertical-align: top;\n",
       "    }\n",
       "\n",
       "    .dataframe thead th {\n",
       "        text-align: right;\n",
       "    }\n",
       "</style>\n",
       "<table border=\"1\" class=\"dataframe\">\n",
       "  <thead>\n",
       "    <tr style=\"text-align: right;\">\n",
       "      <th></th>\n",
       "      <th>Distance (miles)</th>\n",
       "      <th>Cost (USD)</th>\n",
       "      <th>Cost per Mile</th>\n",
       "      <th>Diff from avg CPM</th>\n",
       "      <th>Abs Diff from avg CPM</th>\n",
       "    </tr>\n",
       "  </thead>\n",
       "  <tbody>\n",
       "    <tr>\n",
       "      <th>1</th>\n",
       "      <td>2565</td>\n",
       "      <td>509.5</td>\n",
       "      <td>5.034347</td>\n",
       "      <td>0.797854</td>\n",
       "      <td>0.797854</td>\n",
       "    </tr>\n",
       "    <tr>\n",
       "      <th>0</th>\n",
       "      <td>337</td>\n",
       "      <td>59.5</td>\n",
       "      <td>5.663866</td>\n",
       "      <td>1.427372</td>\n",
       "      <td>1.427372</td>\n",
       "    </tr>\n",
       "    <tr>\n",
       "      <th>2</th>\n",
       "      <td>967</td>\n",
       "      <td>124.5</td>\n",
       "      <td>7.767068</td>\n",
       "      <td>3.530575</td>\n",
       "      <td>3.530575</td>\n",
       "    </tr>\n",
       "  </tbody>\n",
       "</table>\n",
       "</div>"
      ],
      "text/plain": [
       "   Distance (miles)  Cost (USD)  Cost per Mile  Diff from avg CPM  \\\n",
       "1              2565       509.5       5.034347           0.797854   \n",
       "0               337        59.5       5.663866           1.427372   \n",
       "2               967       124.5       7.767068           3.530575   \n",
       "\n",
       "   Abs Diff from avg CPM  \n",
       "1               0.797854  \n",
       "0               1.427372  \n",
       "2               3.530575  "
      ]
     },
     "execution_count": 54,
     "metadata": {},
     "output_type": "execute_result"
    }
   ],
   "source": [
    "top3_cpm = flights[-3:]\n",
    "\n",
    "top3_cpm"
   ]
  },
  {
   "cell_type": "markdown",
   "metadata": {},
   "source": [
    "Order the data from cheapest to most expensive<br>\n",
    "Do you notice any trend in Cost Per Mile columns?"
   ]
  },
  {
   "cell_type": "code",
   "execution_count": 59,
   "metadata": {},
   "outputs": [
    {
     "data": {
      "text/html": [
       "<div>\n",
       "<style scoped>\n",
       "    .dataframe tbody tr th:only-of-type {\n",
       "        vertical-align: middle;\n",
       "    }\n",
       "\n",
       "    .dataframe tbody tr th {\n",
       "        vertical-align: top;\n",
       "    }\n",
       "\n",
       "    .dataframe thead th {\n",
       "        text-align: right;\n",
       "    }\n",
       "</style>\n",
       "<table border=\"1\" class=\"dataframe\">\n",
       "  <thead>\n",
       "    <tr style=\"text-align: right;\">\n",
       "      <th></th>\n",
       "      <th>Distance (miles)</th>\n",
       "      <th>Cost (USD)</th>\n",
       "      <th>Cost per Mile</th>\n",
       "      <th>Diff from avg CPM</th>\n",
       "      <th>Abs Diff from avg CPM</th>\n",
       "    </tr>\n",
       "  </thead>\n",
       "  <tbody>\n",
       "    <tr>\n",
       "      <th>0</th>\n",
       "      <td>337</td>\n",
       "      <td>59.50</td>\n",
       "      <td>5.663866</td>\n",
       "      <td>1.427372</td>\n",
       "      <td>1.427372</td>\n",
       "    </tr>\n",
       "    <tr>\n",
       "      <th>2</th>\n",
       "      <td>967</td>\n",
       "      <td>124.50</td>\n",
       "      <td>7.767068</td>\n",
       "      <td>3.530575</td>\n",
       "      <td>3.530575</td>\n",
       "    </tr>\n",
       "    <tr>\n",
       "      <th>7</th>\n",
       "      <td>522</td>\n",
       "      <td>474.50</td>\n",
       "      <td>1.100105</td>\n",
       "      <td>-3.136388</td>\n",
       "      <td>3.136388</td>\n",
       "    </tr>\n",
       "    <tr>\n",
       "      <th>1</th>\n",
       "      <td>2565</td>\n",
       "      <td>509.50</td>\n",
       "      <td>5.034347</td>\n",
       "      <td>0.797854</td>\n",
       "      <td>0.797854</td>\n",
       "    </tr>\n",
       "    <tr>\n",
       "      <th>5</th>\n",
       "      <td>2586</td>\n",
       "      <td>559.50</td>\n",
       "      <td>4.621984</td>\n",
       "      <td>0.385490</td>\n",
       "      <td>0.385490</td>\n",
       "    </tr>\n",
       "    <tr>\n",
       "      <th>4</th>\n",
       "      <td>2398</td>\n",
       "      <td>696.23</td>\n",
       "      <td>3.444264</td>\n",
       "      <td>-0.792229</td>\n",
       "      <td>0.792229</td>\n",
       "    </tr>\n",
       "    <tr>\n",
       "      <th>8</th>\n",
       "      <td>1499</td>\n",
       "      <td>737.50</td>\n",
       "      <td>2.032542</td>\n",
       "      <td>-2.203951</td>\n",
       "      <td>2.203951</td>\n",
       "    </tr>\n",
       "    <tr>\n",
       "      <th>3</th>\n",
       "      <td>5124</td>\n",
       "      <td>1480.40</td>\n",
       "      <td>3.461227</td>\n",
       "      <td>-0.775267</td>\n",
       "      <td>0.775267</td>\n",
       "    </tr>\n",
       "    <tr>\n",
       "      <th>6</th>\n",
       "      <td>7412</td>\n",
       "      <td>1481.50</td>\n",
       "      <td>5.003037</td>\n",
       "      <td>0.766544</td>\n",
       "      <td>0.766544</td>\n",
       "    </tr>\n",
       "  </tbody>\n",
       "</table>\n",
       "</div>"
      ],
      "text/plain": [
       "   Distance (miles)  Cost (USD)  Cost per Mile  Diff from avg CPM  \\\n",
       "0               337       59.50       5.663866           1.427372   \n",
       "2               967      124.50       7.767068           3.530575   \n",
       "7               522      474.50       1.100105          -3.136388   \n",
       "1              2565      509.50       5.034347           0.797854   \n",
       "5              2586      559.50       4.621984           0.385490   \n",
       "4              2398      696.23       3.444264          -0.792229   \n",
       "8              1499      737.50       2.032542          -2.203951   \n",
       "3              5124     1480.40       3.461227          -0.775267   \n",
       "6              7412     1481.50       5.003037           0.766544   \n",
       "\n",
       "   Abs Diff from avg CPM  \n",
       "0               1.427372  \n",
       "2               3.530575  \n",
       "7               3.136388  \n",
       "1               0.797854  \n",
       "5               0.385490  \n",
       "4               0.792229  \n",
       "8               2.203951  \n",
       "3               0.775267  \n",
       "6               0.766544  "
      ]
     },
     "execution_count": 59,
     "metadata": {},
     "output_type": "execute_result"
    }
   ],
   "source": [
    "flights.sort_values(by=\"Cost (USD)\", inplace = True)\n",
    "flights"
   ]
  },
  {
   "cell_type": "markdown",
   "metadata": {},
   "source": [
    "\n",
    "Select the top three flights in terms of Cost\n",
    "Select the bottom three flights in terms of Cost\n",
    "\n",
    "Compare the two sub-sets - are there any general trends evident?"
   ]
  },
  {
   "cell_type": "code",
   "execution_count": 61,
   "metadata": {},
   "outputs": [
    {
     "data": {
      "text/html": [
       "<div>\n",
       "<style scoped>\n",
       "    .dataframe tbody tr th:only-of-type {\n",
       "        vertical-align: middle;\n",
       "    }\n",
       "\n",
       "    .dataframe tbody tr th {\n",
       "        vertical-align: top;\n",
       "    }\n",
       "\n",
       "    .dataframe thead th {\n",
       "        text-align: right;\n",
       "    }\n",
       "</style>\n",
       "<table border=\"1\" class=\"dataframe\">\n",
       "  <thead>\n",
       "    <tr style=\"text-align: right;\">\n",
       "      <th></th>\n",
       "      <th>Distance (miles)</th>\n",
       "      <th>Cost (USD)</th>\n",
       "      <th>Cost per Mile</th>\n",
       "      <th>Diff from avg CPM</th>\n",
       "      <th>Abs Diff from avg CPM</th>\n",
       "    </tr>\n",
       "  </thead>\n",
       "  <tbody>\n",
       "    <tr>\n",
       "      <th>0</th>\n",
       "      <td>337</td>\n",
       "      <td>59.5</td>\n",
       "      <td>5.663866</td>\n",
       "      <td>1.427372</td>\n",
       "      <td>1.427372</td>\n",
       "    </tr>\n",
       "    <tr>\n",
       "      <th>2</th>\n",
       "      <td>967</td>\n",
       "      <td>124.5</td>\n",
       "      <td>7.767068</td>\n",
       "      <td>3.530575</td>\n",
       "      <td>3.530575</td>\n",
       "    </tr>\n",
       "    <tr>\n",
       "      <th>7</th>\n",
       "      <td>522</td>\n",
       "      <td>474.5</td>\n",
       "      <td>1.100105</td>\n",
       "      <td>-3.136388</td>\n",
       "      <td>3.136388</td>\n",
       "    </tr>\n",
       "  </tbody>\n",
       "</table>\n",
       "</div>"
      ],
      "text/plain": [
       "   Distance (miles)  Cost (USD)  Cost per Mile  Diff from avg CPM  \\\n",
       "0               337        59.5       5.663866           1.427372   \n",
       "2               967       124.5       7.767068           3.530575   \n",
       "7               522       474.5       1.100105          -3.136388   \n",
       "\n",
       "   Abs Diff from avg CPM  \n",
       "0               1.427372  \n",
       "2               3.530575  \n",
       "7               3.136388  "
      ]
     },
     "execution_count": 61,
     "metadata": {},
     "output_type": "execute_result"
    }
   ],
   "source": [
    "bottom3_cost = flights[:3]\n",
    "bottom3_cost"
   ]
  },
  {
   "cell_type": "code",
   "execution_count": 62,
   "metadata": {},
   "outputs": [
    {
     "data": {
      "text/html": [
       "<div>\n",
       "<style scoped>\n",
       "    .dataframe tbody tr th:only-of-type {\n",
       "        vertical-align: middle;\n",
       "    }\n",
       "\n",
       "    .dataframe tbody tr th {\n",
       "        vertical-align: top;\n",
       "    }\n",
       "\n",
       "    .dataframe thead th {\n",
       "        text-align: right;\n",
       "    }\n",
       "</style>\n",
       "<table border=\"1\" class=\"dataframe\">\n",
       "  <thead>\n",
       "    <tr style=\"text-align: right;\">\n",
       "      <th></th>\n",
       "      <th>Distance (miles)</th>\n",
       "      <th>Cost (USD)</th>\n",
       "      <th>Cost per Mile</th>\n",
       "      <th>Diff from avg CPM</th>\n",
       "      <th>Abs Diff from avg CPM</th>\n",
       "    </tr>\n",
       "  </thead>\n",
       "  <tbody>\n",
       "    <tr>\n",
       "      <th>8</th>\n",
       "      <td>1499</td>\n",
       "      <td>737.5</td>\n",
       "      <td>2.032542</td>\n",
       "      <td>-2.203951</td>\n",
       "      <td>2.203951</td>\n",
       "    </tr>\n",
       "    <tr>\n",
       "      <th>3</th>\n",
       "      <td>5124</td>\n",
       "      <td>1480.4</td>\n",
       "      <td>3.461227</td>\n",
       "      <td>-0.775267</td>\n",
       "      <td>0.775267</td>\n",
       "    </tr>\n",
       "    <tr>\n",
       "      <th>6</th>\n",
       "      <td>7412</td>\n",
       "      <td>1481.5</td>\n",
       "      <td>5.003037</td>\n",
       "      <td>0.766544</td>\n",
       "      <td>0.766544</td>\n",
       "    </tr>\n",
       "  </tbody>\n",
       "</table>\n",
       "</div>"
      ],
      "text/plain": [
       "   Distance (miles)  Cost (USD)  Cost per Mile  Diff from avg CPM  \\\n",
       "8              1499       737.5       2.032542          -2.203951   \n",
       "3              5124      1480.4       3.461227          -0.775267   \n",
       "6              7412      1481.5       5.003037           0.766544   \n",
       "\n",
       "   Abs Diff from avg CPM  \n",
       "8               2.203951  \n",
       "3               0.775267  \n",
       "6               0.766544  "
      ]
     },
     "execution_count": 62,
     "metadata": {},
     "output_type": "execute_result"
    }
   ],
   "source": [
    "top3_cost = flights[-3:]\n",
    "top3_cost"
   ]
  },
  {
   "cell_type": "markdown",
   "metadata": {},
   "source": [
    "=========================== Answer ======================================\n",
    "\n",
    "The longer trips are closer to the average CPM.<br> This is probably due to price variation having less impact over longer journeys<br>i.e 100 euro price change on a 300 mile flight has more impact on CPM than 100\n",
    "\n",
    "=========================== Answer ======================================"
   ]
  }
 ],
 "metadata": {
  "kernelspec": {
   "display_name": "Python 3",
   "language": "python",
   "name": "python3"
  },
  "language_info": {
   "codemirror_mode": {
    "name": "ipython",
    "version": 3
   },
   "file_extension": ".py",
   "mimetype": "text/x-python",
   "name": "python",
   "nbconvert_exporter": "python",
   "pygments_lexer": "ipython3",
   "version": "3.7.4"
  }
 },
 "nbformat": 4,
 "nbformat_minor": 2
}
