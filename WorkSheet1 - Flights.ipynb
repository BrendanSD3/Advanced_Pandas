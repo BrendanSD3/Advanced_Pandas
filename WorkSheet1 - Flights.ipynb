{
 "cells": [
  {
   "cell_type": "markdown",
   "metadata": {},
   "source": [
    "## Python Basics + NumPy & Pandas "
   ]
  },
  {
   "cell_type": "markdown",
   "metadata": {},
   "source": [
    "Setup"
   ]
  },
  {
   "cell_type": "code",
   "execution_count": 50,
   "metadata": {},
   "outputs": [],
   "source": [
    "import pandas as pd\n",
    "import numpy as np"
   ]
  },
  {
   "cell_type": "code",
   "execution_count": null,
   "metadata": {},
   "outputs": [],
   "source": []
  },
  {
   "cell_type": "markdown",
   "metadata": {},
   "source": [
    "import the FlightData csv from the Data folder"
   ]
  },
  {
   "cell_type": "code",
   "execution_count": 51,
   "metadata": {},
   "outputs": [
    {
     "data": {
      "text/html": [
       "<div>\n",
       "<style scoped>\n",
       "    .dataframe tbody tr th:only-of-type {\n",
       "        vertical-align: middle;\n",
       "    }\n",
       "\n",
       "    .dataframe tbody tr th {\n",
       "        vertical-align: top;\n",
       "    }\n",
       "\n",
       "    .dataframe thead th {\n",
       "        text-align: right;\n",
       "    }\n",
       "</style>\n",
       "<table border=\"1\" class=\"dataframe\">\n",
       "  <thead>\n",
       "    <tr style=\"text-align: right;\">\n",
       "      <th></th>\n",
       "      <th>Distance (miles)</th>\n",
       "      <th>Cost (USD)</th>\n",
       "    </tr>\n",
       "  </thead>\n",
       "  <tbody>\n",
       "    <tr>\n",
       "      <td>0</td>\n",
       "      <td>337</td>\n",
       "      <td>59.50</td>\n",
       "    </tr>\n",
       "    <tr>\n",
       "      <td>1</td>\n",
       "      <td>2565</td>\n",
       "      <td>509.50</td>\n",
       "    </tr>\n",
       "    <tr>\n",
       "      <td>2</td>\n",
       "      <td>967</td>\n",
       "      <td>124.50</td>\n",
       "    </tr>\n",
       "    <tr>\n",
       "      <td>3</td>\n",
       "      <td>5124</td>\n",
       "      <td>1480.40</td>\n",
       "    </tr>\n",
       "    <tr>\n",
       "      <td>4</td>\n",
       "      <td>2398</td>\n",
       "      <td>696.23</td>\n",
       "    </tr>\n",
       "  </tbody>\n",
       "</table>\n",
       "</div>"
      ],
      "text/plain": [
       "   Distance (miles)  Cost (USD)\n",
       "0               337       59.50\n",
       "1              2565      509.50\n",
       "2               967      124.50\n",
       "3              5124     1480.40\n",
       "4              2398      696.23"
      ]
     },
     "execution_count": 51,
     "metadata": {},
     "output_type": "execute_result"
    }
   ],
   "source": [
    "flights=pd.read_csv(\"Data/FlightData.csv\")\n",
    "flights.head()"
   ]
  },
  {
   "cell_type": "markdown",
   "metadata": {},
   "source": [
    "Check the data types for the flight data.<br> First check each series individually then check the panda data frame types"
   ]
  },
  {
   "cell_type": "code",
   "execution_count": 52,
   "metadata": {},
   "outputs": [
    {
     "name": "stdout",
     "output_type": "stream",
     "text": [
      "int64\n",
      "float64\n",
      "int64\n",
      "float64\n"
     ]
    }
   ],
   "source": [
    "print(flights['Distance (miles)'].dtype)\n",
    "print(flights['Cost (USD)'].dtype)\n",
    "print(flights['Distance (miles)'].dtypes)\n",
    "print(flights['Cost (USD)'].dtypes)\n"
   ]
  },
  {
   "cell_type": "markdown",
   "metadata": {},
   "source": [
    "Order the data from shortest distance to longest distance"
   ]
  },
  {
   "cell_type": "code",
   "execution_count": 53,
   "metadata": {},
   "outputs": [
    {
     "name": "stdout",
     "output_type": "stream",
     "text": [
      "   Distance (miles)  Cost (USD)\n",
      "0               337       59.50\n",
      "7               522      474.50\n",
      "2               967      124.50\n",
      "8              1499      737.50\n",
      "4              2398      696.23\n",
      "1              2565      509.50\n",
      "5              2586      559.50\n",
      "3              5124     1480.40\n",
      "6              7412     1481.50\n"
     ]
    }
   ],
   "source": [
    "distanceStoL= flights.sort_values(by=['Distance (miles)'])\n",
    "print(distanceStoL)\n"
   ]
  },
  {
   "cell_type": "markdown",
   "metadata": {},
   "source": [
    "Add a column that shows the price per mile of each trip"
   ]
  },
  {
   "cell_type": "code",
   "execution_count": 54,
   "metadata": {},
   "outputs": [
    {
     "data": {
      "text/html": [
       "<div>\n",
       "<style scoped>\n",
       "    .dataframe tbody tr th:only-of-type {\n",
       "        vertical-align: middle;\n",
       "    }\n",
       "\n",
       "    .dataframe tbody tr th {\n",
       "        vertical-align: top;\n",
       "    }\n",
       "\n",
       "    .dataframe thead th {\n",
       "        text-align: right;\n",
       "    }\n",
       "</style>\n",
       "<table border=\"1\" class=\"dataframe\">\n",
       "  <thead>\n",
       "    <tr style=\"text-align: right;\">\n",
       "      <th></th>\n",
       "      <th>Distance (miles)</th>\n",
       "      <th>Cost (USD)</th>\n",
       "      <th>pricePM</th>\n",
       "    </tr>\n",
       "  </thead>\n",
       "  <tbody>\n",
       "    <tr>\n",
       "      <td>0</td>\n",
       "      <td>337</td>\n",
       "      <td>59.50</td>\n",
       "      <td>5.663866</td>\n",
       "    </tr>\n",
       "    <tr>\n",
       "      <td>1</td>\n",
       "      <td>2565</td>\n",
       "      <td>509.50</td>\n",
       "      <td>5.034347</td>\n",
       "    </tr>\n",
       "    <tr>\n",
       "      <td>2</td>\n",
       "      <td>967</td>\n",
       "      <td>124.50</td>\n",
       "      <td>7.767068</td>\n",
       "    </tr>\n",
       "    <tr>\n",
       "      <td>3</td>\n",
       "      <td>5124</td>\n",
       "      <td>1480.40</td>\n",
       "      <td>3.461227</td>\n",
       "    </tr>\n",
       "    <tr>\n",
       "      <td>4</td>\n",
       "      <td>2398</td>\n",
       "      <td>696.23</td>\n",
       "      <td>3.444264</td>\n",
       "    </tr>\n",
       "  </tbody>\n",
       "</table>\n",
       "</div>"
      ],
      "text/plain": [
       "   Distance (miles)  Cost (USD)   pricePM\n",
       "0               337       59.50  5.663866\n",
       "1              2565      509.50  5.034347\n",
       "2               967      124.50  7.767068\n",
       "3              5124     1480.40  3.461227\n",
       "4              2398      696.23  3.444264"
      ]
     },
     "execution_count": 54,
     "metadata": {},
     "output_type": "execute_result"
    }
   ],
   "source": [
    "#df=pd.DataFrame(flights)\n",
    "flights['pricePM']=flights['Distance (miles)']/flights['Cost (USD)']\n",
    "flights.head()\n",
    "#print(pricePerMile)\n",
    "# df2=df.assign(pricepermile=[])\n",
    "#type(flights)"
   ]
  },
  {
   "cell_type": "markdown",
   "metadata": {},
   "source": [
    "Use the <b>describe()</b> funtion to see the min max and average Cost per mile"
   ]
  },
  {
   "cell_type": "code",
   "execution_count": 55,
   "metadata": {},
   "outputs": [
    {
     "data": {
      "text/plain": [
       "count    9.000000\n",
       "mean     4.236493\n",
       "std      1.993681\n",
       "min      1.100105\n",
       "25%      3.444264\n",
       "50%      4.621984\n",
       "75%      5.034347\n",
       "max      7.767068\n",
       "Name: pricePM, dtype: float64"
      ]
     },
     "execution_count": 55,
     "metadata": {},
     "output_type": "execute_result"
    }
   ],
   "source": [
    "s=flights['pricePM']\n",
    "s.describe()"
   ]
  },
  {
   "cell_type": "markdown",
   "metadata": {},
   "source": [
    "Print the dataframe out to the notebook<br> Do you notice any general trend in the Cost per mile?"
   ]
  },
  {
   "cell_type": "code",
   "execution_count": 56,
   "metadata": {},
   "outputs": [
    {
     "data": {
      "text/html": [
       "<div>\n",
       "<style scoped>\n",
       "    .dataframe tbody tr th:only-of-type {\n",
       "        vertical-align: middle;\n",
       "    }\n",
       "\n",
       "    .dataframe tbody tr th {\n",
       "        vertical-align: top;\n",
       "    }\n",
       "\n",
       "    .dataframe thead th {\n",
       "        text-align: right;\n",
       "    }\n",
       "</style>\n",
       "<table border=\"1\" class=\"dataframe\">\n",
       "  <thead>\n",
       "    <tr style=\"text-align: right;\">\n",
       "      <th></th>\n",
       "      <th>Distance (miles)</th>\n",
       "      <th>Cost (USD)</th>\n",
       "      <th>pricePM</th>\n",
       "    </tr>\n",
       "  </thead>\n",
       "  <tbody>\n",
       "    <tr>\n",
       "      <td>0</td>\n",
       "      <td>337</td>\n",
       "      <td>59.50</td>\n",
       "      <td>5.663866</td>\n",
       "    </tr>\n",
       "    <tr>\n",
       "      <td>1</td>\n",
       "      <td>2565</td>\n",
       "      <td>509.50</td>\n",
       "      <td>5.034347</td>\n",
       "    </tr>\n",
       "    <tr>\n",
       "      <td>2</td>\n",
       "      <td>967</td>\n",
       "      <td>124.50</td>\n",
       "      <td>7.767068</td>\n",
       "    </tr>\n",
       "    <tr>\n",
       "      <td>3</td>\n",
       "      <td>5124</td>\n",
       "      <td>1480.40</td>\n",
       "      <td>3.461227</td>\n",
       "    </tr>\n",
       "    <tr>\n",
       "      <td>4</td>\n",
       "      <td>2398</td>\n",
       "      <td>696.23</td>\n",
       "      <td>3.444264</td>\n",
       "    </tr>\n",
       "    <tr>\n",
       "      <td>5</td>\n",
       "      <td>2586</td>\n",
       "      <td>559.50</td>\n",
       "      <td>4.621984</td>\n",
       "    </tr>\n",
       "    <tr>\n",
       "      <td>6</td>\n",
       "      <td>7412</td>\n",
       "      <td>1481.50</td>\n",
       "      <td>5.003037</td>\n",
       "    </tr>\n",
       "    <tr>\n",
       "      <td>7</td>\n",
       "      <td>522</td>\n",
       "      <td>474.50</td>\n",
       "      <td>1.100105</td>\n",
       "    </tr>\n",
       "    <tr>\n",
       "      <td>8</td>\n",
       "      <td>1499</td>\n",
       "      <td>737.50</td>\n",
       "      <td>2.032542</td>\n",
       "    </tr>\n",
       "  </tbody>\n",
       "</table>\n",
       "</div>"
      ],
      "text/plain": [
       "   Distance (miles)  Cost (USD)   pricePM\n",
       "0               337       59.50  5.663866\n",
       "1              2565      509.50  5.034347\n",
       "2               967      124.50  7.767068\n",
       "3              5124     1480.40  3.461227\n",
       "4              2398      696.23  3.444264\n",
       "5              2586      559.50  4.621984\n",
       "6              7412     1481.50  5.003037\n",
       "7               522      474.50  1.100105\n",
       "8              1499      737.50  2.032542"
      ]
     },
     "execution_count": 56,
     "metadata": {},
     "output_type": "execute_result"
    }
   ],
   "source": [
    "flights\n"
   ]
  },
  {
   "cell_type": "markdown",
   "metadata": {},
   "source": [
    "Save the \"average cost per mile\" to a variable"
   ]
  },
  {
   "cell_type": "code",
   "execution_count": 57,
   "metadata": {},
   "outputs": [
    {
     "name": "stdout",
     "output_type": "stream",
     "text": [
      "average= 4.236493460615013\n"
     ]
    }
   ],
   "source": [
    "average=s.mean()\n",
    "print(\"average=\",average)"
   ]
  },
  {
   "cell_type": "markdown",
   "metadata": {},
   "source": [
    "Add another column to the dataframe that shows the difference in cost per mile from the average cost per mile"
   ]
  },
  {
   "cell_type": "code",
   "execution_count": 58,
   "metadata": {},
   "outputs": [
    {
     "data": {
      "text/html": [
       "<div>\n",
       "<style scoped>\n",
       "    .dataframe tbody tr th:only-of-type {\n",
       "        vertical-align: middle;\n",
       "    }\n",
       "\n",
       "    .dataframe tbody tr th {\n",
       "        vertical-align: top;\n",
       "    }\n",
       "\n",
       "    .dataframe thead th {\n",
       "        text-align: right;\n",
       "    }\n",
       "</style>\n",
       "<table border=\"1\" class=\"dataframe\">\n",
       "  <thead>\n",
       "    <tr style=\"text-align: right;\">\n",
       "      <th></th>\n",
       "      <th>Distance (miles)</th>\n",
       "      <th>Cost (USD)</th>\n",
       "      <th>pricePM</th>\n",
       "      <th>difference</th>\n",
       "    </tr>\n",
       "  </thead>\n",
       "  <tbody>\n",
       "    <tr>\n",
       "      <td>0</td>\n",
       "      <td>337</td>\n",
       "      <td>59.50</td>\n",
       "      <td>5.663866</td>\n",
       "      <td>1.427372</td>\n",
       "    </tr>\n",
       "    <tr>\n",
       "      <td>1</td>\n",
       "      <td>2565</td>\n",
       "      <td>509.50</td>\n",
       "      <td>5.034347</td>\n",
       "      <td>0.797854</td>\n",
       "    </tr>\n",
       "    <tr>\n",
       "      <td>2</td>\n",
       "      <td>967</td>\n",
       "      <td>124.50</td>\n",
       "      <td>7.767068</td>\n",
       "      <td>3.530575</td>\n",
       "    </tr>\n",
       "    <tr>\n",
       "      <td>3</td>\n",
       "      <td>5124</td>\n",
       "      <td>1480.40</td>\n",
       "      <td>3.461227</td>\n",
       "      <td>-0.775267</td>\n",
       "    </tr>\n",
       "    <tr>\n",
       "      <td>4</td>\n",
       "      <td>2398</td>\n",
       "      <td>696.23</td>\n",
       "      <td>3.444264</td>\n",
       "      <td>-0.792229</td>\n",
       "    </tr>\n",
       "    <tr>\n",
       "      <td>5</td>\n",
       "      <td>2586</td>\n",
       "      <td>559.50</td>\n",
       "      <td>4.621984</td>\n",
       "      <td>0.385490</td>\n",
       "    </tr>\n",
       "    <tr>\n",
       "      <td>6</td>\n",
       "      <td>7412</td>\n",
       "      <td>1481.50</td>\n",
       "      <td>5.003037</td>\n",
       "      <td>0.766544</td>\n",
       "    </tr>\n",
       "    <tr>\n",
       "      <td>7</td>\n",
       "      <td>522</td>\n",
       "      <td>474.50</td>\n",
       "      <td>1.100105</td>\n",
       "      <td>-3.136388</td>\n",
       "    </tr>\n",
       "    <tr>\n",
       "      <td>8</td>\n",
       "      <td>1499</td>\n",
       "      <td>737.50</td>\n",
       "      <td>2.032542</td>\n",
       "      <td>-2.203951</td>\n",
       "    </tr>\n",
       "  </tbody>\n",
       "</table>\n",
       "</div>"
      ],
      "text/plain": [
       "   Distance (miles)  Cost (USD)   pricePM  difference\n",
       "0               337       59.50  5.663866    1.427372\n",
       "1              2565      509.50  5.034347    0.797854\n",
       "2               967      124.50  7.767068    3.530575\n",
       "3              5124     1480.40  3.461227   -0.775267\n",
       "4              2398      696.23  3.444264   -0.792229\n",
       "5              2586      559.50  4.621984    0.385490\n",
       "6              7412     1481.50  5.003037    0.766544\n",
       "7               522      474.50  1.100105   -3.136388\n",
       "8              1499      737.50  2.032542   -2.203951"
      ]
     },
     "execution_count": 58,
     "metadata": {},
     "output_type": "execute_result"
    }
   ],
   "source": [
    "flights['difference']=flights['pricePM']-average\n",
    "flights\n"
   ]
  },
  {
   "cell_type": "markdown",
   "metadata": {},
   "source": [
    "Add another column to the dataframe that shows the <i>absolute</i> difference in cost per mile from the average cost per mile"
   ]
  },
  {
   "cell_type": "code",
   "execution_count": 59,
   "metadata": {},
   "outputs": [
    {
     "name": "stdout",
     "output_type": "stream",
     "text": [
      "0    1.427372\n",
      "1    0.797854\n",
      "2    3.530575\n",
      "3    0.775267\n",
      "4    0.792229\n",
      "5    0.385490\n",
      "6    0.766544\n",
      "7    3.136388\n",
      "8    2.203951\n",
      "Name: pricePM, dtype: float64\n"
     ]
    },
    {
     "data": {
      "text/html": [
       "<div>\n",
       "<style scoped>\n",
       "    .dataframe tbody tr th:only-of-type {\n",
       "        vertical-align: middle;\n",
       "    }\n",
       "\n",
       "    .dataframe tbody tr th {\n",
       "        vertical-align: top;\n",
       "    }\n",
       "\n",
       "    .dataframe thead th {\n",
       "        text-align: right;\n",
       "    }\n",
       "</style>\n",
       "<table border=\"1\" class=\"dataframe\">\n",
       "  <thead>\n",
       "    <tr style=\"text-align: right;\">\n",
       "      <th></th>\n",
       "      <th>Distance (miles)</th>\n",
       "      <th>Cost (USD)</th>\n",
       "      <th>pricePM</th>\n",
       "      <th>difference</th>\n",
       "      <th>AbsoluteDiffInCPM</th>\n",
       "    </tr>\n",
       "  </thead>\n",
       "  <tbody>\n",
       "    <tr>\n",
       "      <td>0</td>\n",
       "      <td>337</td>\n",
       "      <td>59.50</td>\n",
       "      <td>5.663866</td>\n",
       "      <td>1.427372</td>\n",
       "      <td>1.427372</td>\n",
       "    </tr>\n",
       "    <tr>\n",
       "      <td>1</td>\n",
       "      <td>2565</td>\n",
       "      <td>509.50</td>\n",
       "      <td>5.034347</td>\n",
       "      <td>0.797854</td>\n",
       "      <td>0.797854</td>\n",
       "    </tr>\n",
       "    <tr>\n",
       "      <td>2</td>\n",
       "      <td>967</td>\n",
       "      <td>124.50</td>\n",
       "      <td>7.767068</td>\n",
       "      <td>3.530575</td>\n",
       "      <td>3.530575</td>\n",
       "    </tr>\n",
       "    <tr>\n",
       "      <td>3</td>\n",
       "      <td>5124</td>\n",
       "      <td>1480.40</td>\n",
       "      <td>3.461227</td>\n",
       "      <td>-0.775267</td>\n",
       "      <td>0.775267</td>\n",
       "    </tr>\n",
       "    <tr>\n",
       "      <td>4</td>\n",
       "      <td>2398</td>\n",
       "      <td>696.23</td>\n",
       "      <td>3.444264</td>\n",
       "      <td>-0.792229</td>\n",
       "      <td>0.792229</td>\n",
       "    </tr>\n",
       "    <tr>\n",
       "      <td>5</td>\n",
       "      <td>2586</td>\n",
       "      <td>559.50</td>\n",
       "      <td>4.621984</td>\n",
       "      <td>0.385490</td>\n",
       "      <td>0.385490</td>\n",
       "    </tr>\n",
       "    <tr>\n",
       "      <td>6</td>\n",
       "      <td>7412</td>\n",
       "      <td>1481.50</td>\n",
       "      <td>5.003037</td>\n",
       "      <td>0.766544</td>\n",
       "      <td>0.766544</td>\n",
       "    </tr>\n",
       "    <tr>\n",
       "      <td>7</td>\n",
       "      <td>522</td>\n",
       "      <td>474.50</td>\n",
       "      <td>1.100105</td>\n",
       "      <td>-3.136388</td>\n",
       "      <td>3.136388</td>\n",
       "    </tr>\n",
       "    <tr>\n",
       "      <td>8</td>\n",
       "      <td>1499</td>\n",
       "      <td>737.50</td>\n",
       "      <td>2.032542</td>\n",
       "      <td>-2.203951</td>\n",
       "      <td>2.203951</td>\n",
       "    </tr>\n",
       "  </tbody>\n",
       "</table>\n",
       "</div>"
      ],
      "text/plain": [
       "   Distance (miles)  Cost (USD)   pricePM  difference  AbsoluteDiffInCPM\n",
       "0               337       59.50  5.663866    1.427372           1.427372\n",
       "1              2565      509.50  5.034347    0.797854           0.797854\n",
       "2               967      124.50  7.767068    3.530575           3.530575\n",
       "3              5124     1480.40  3.461227   -0.775267           0.775267\n",
       "4              2398      696.23  3.444264   -0.792229           0.792229\n",
       "5              2586      559.50  4.621984    0.385490           0.385490\n",
       "6              7412     1481.50  5.003037    0.766544           0.766544\n",
       "7               522      474.50  1.100105   -3.136388           3.136388\n",
       "8              1499      737.50  2.032542   -2.203951           2.203951"
      ]
     },
     "execution_count": 59,
     "metadata": {},
     "output_type": "execute_result"
    }
   ],
   "source": [
    "ppm=flights.pricePM\n",
    "acpm=average\n",
    "s=ppm-acpm\n",
    "absolute=s.abs()\n",
    "\n",
    "print(absolute)\n",
    "flights['AbsoluteDiffInCPM']=absolute\n",
    "flights"
   ]
  },
  {
   "cell_type": "markdown",
   "metadata": {},
   "source": [
    "Using one line of code for each - do the following:<br><br>\n",
    "Select the flight that has the lowest cost per mile<br>\n",
    "Select the flight that has the highest cost per mile<br>\n",
    "Select the flight that is the closest to the average cost per mile<br>\n",
    "\n"
   ]
  },
  {
   "cell_type": "code",
   "execution_count": 60,
   "metadata": {},
   "outputs": [
    {
     "name": "stdout",
     "output_type": "stream",
     "text": [
      "1.100105374077977\n"
     ]
    }
   ],
   "source": [
    "lowestcpm=flights['pricePM'].min()\n",
    "print(lowestcpm)"
   ]
  },
  {
   "cell_type": "code",
   "execution_count": 61,
   "metadata": {},
   "outputs": [
    {
     "name": "stdout",
     "output_type": "stream",
     "text": [
      "7.767068273092369\n"
     ]
    }
   ],
   "source": [
    "highestcpm=flights['pricePM'].max()\n",
    "print(highestcpm)"
   ]
  },
  {
   "cell_type": "code",
   "execution_count": 62,
   "metadata": {},
   "outputs": [
    {
     "name": "stdout",
     "output_type": "stream",
     "text": [
      "4.236493460615013\n"
     ]
    }
   ],
   "source": [
    "closestToAvg=flights['pricePM'].mean()\n",
    "print(closestToAvg)"
   ]
  },
  {
   "cell_type": "code",
   "execution_count": null,
   "metadata": {},
   "outputs": [],
   "source": []
  },
  {
   "cell_type": "markdown",
   "metadata": {},
   "source": [
    "Select the top three flights in terms of Cost per Mile<br>\n",
    "Select the bottom three flights in terms of Cost per Mile<br>\n",
    "<br>\n",
    "Compare the two sub-sets - are there any general trends evident? \n"
   ]
  },
  {
   "cell_type": "code",
   "execution_count": 63,
   "metadata": {},
   "outputs": [
    {
     "data": {
      "text/html": [
       "<div>\n",
       "<style scoped>\n",
       "    .dataframe tbody tr th:only-of-type {\n",
       "        vertical-align: middle;\n",
       "    }\n",
       "\n",
       "    .dataframe tbody tr th {\n",
       "        vertical-align: top;\n",
       "    }\n",
       "\n",
       "    .dataframe thead th {\n",
       "        text-align: right;\n",
       "    }\n",
       "</style>\n",
       "<table border=\"1\" class=\"dataframe\">\n",
       "  <thead>\n",
       "    <tr style=\"text-align: right;\">\n",
       "      <th></th>\n",
       "      <th>Distance (miles)</th>\n",
       "      <th>Cost (USD)</th>\n",
       "      <th>pricePM</th>\n",
       "      <th>difference</th>\n",
       "      <th>AbsoluteDiffInCPM</th>\n",
       "    </tr>\n",
       "  </thead>\n",
       "  <tbody>\n",
       "    <tr>\n",
       "      <td>7</td>\n",
       "      <td>522</td>\n",
       "      <td>474.50</td>\n",
       "      <td>1.100105</td>\n",
       "      <td>-3.136388</td>\n",
       "      <td>3.136388</td>\n",
       "    </tr>\n",
       "    <tr>\n",
       "      <td>8</td>\n",
       "      <td>1499</td>\n",
       "      <td>737.50</td>\n",
       "      <td>2.032542</td>\n",
       "      <td>-2.203951</td>\n",
       "      <td>2.203951</td>\n",
       "    </tr>\n",
       "    <tr>\n",
       "      <td>4</td>\n",
       "      <td>2398</td>\n",
       "      <td>696.23</td>\n",
       "      <td>3.444264</td>\n",
       "      <td>-0.792229</td>\n",
       "      <td>0.792229</td>\n",
       "    </tr>\n",
       "  </tbody>\n",
       "</table>\n",
       "</div>"
      ],
      "text/plain": [
       "   Distance (miles)  Cost (USD)   pricePM  difference  AbsoluteDiffInCPM\n",
       "7               522      474.50  1.100105   -3.136388           3.136388\n",
       "8              1499      737.50  2.032542   -2.203951           2.203951\n",
       "4              2398      696.23  3.444264   -0.792229           0.792229"
      ]
     },
     "execution_count": 63,
     "metadata": {},
     "output_type": "execute_result"
    }
   ],
   "source": [
    "top3flights=flights.sort_values(by=['pricePM'])\n",
    "top3flights.iloc[:3]\n",
    "\n"
   ]
  },
  {
   "cell_type": "code",
   "execution_count": 64,
   "metadata": {},
   "outputs": [
    {
     "data": {
      "text/html": [
       "<div>\n",
       "<style scoped>\n",
       "    .dataframe tbody tr th:only-of-type {\n",
       "        vertical-align: middle;\n",
       "    }\n",
       "\n",
       "    .dataframe tbody tr th {\n",
       "        vertical-align: top;\n",
       "    }\n",
       "\n",
       "    .dataframe thead th {\n",
       "        text-align: right;\n",
       "    }\n",
       "</style>\n",
       "<table border=\"1\" class=\"dataframe\">\n",
       "  <thead>\n",
       "    <tr style=\"text-align: right;\">\n",
       "      <th></th>\n",
       "      <th>Distance (miles)</th>\n",
       "      <th>Cost (USD)</th>\n",
       "      <th>pricePM</th>\n",
       "      <th>difference</th>\n",
       "      <th>AbsoluteDiffInCPM</th>\n",
       "    </tr>\n",
       "  </thead>\n",
       "  <tbody>\n",
       "    <tr>\n",
       "      <td>1</td>\n",
       "      <td>2565</td>\n",
       "      <td>509.5</td>\n",
       "      <td>5.034347</td>\n",
       "      <td>0.797854</td>\n",
       "      <td>0.797854</td>\n",
       "    </tr>\n",
       "    <tr>\n",
       "      <td>0</td>\n",
       "      <td>337</td>\n",
       "      <td>59.5</td>\n",
       "      <td>5.663866</td>\n",
       "      <td>1.427372</td>\n",
       "      <td>1.427372</td>\n",
       "    </tr>\n",
       "    <tr>\n",
       "      <td>2</td>\n",
       "      <td>967</td>\n",
       "      <td>124.5</td>\n",
       "      <td>7.767068</td>\n",
       "      <td>3.530575</td>\n",
       "      <td>3.530575</td>\n",
       "    </tr>\n",
       "  </tbody>\n",
       "</table>\n",
       "</div>"
      ],
      "text/plain": [
       "   Distance (miles)  Cost (USD)   pricePM  difference  AbsoluteDiffInCPM\n",
       "1              2565       509.5  5.034347    0.797854           0.797854\n",
       "0               337        59.5  5.663866    1.427372           1.427372\n",
       "2               967       124.5  7.767068    3.530575           3.530575"
      ]
     },
     "execution_count": 64,
     "metadata": {},
     "output_type": "execute_result"
    }
   ],
   "source": [
    "bottom3flights=flights.sort_values(by=['pricePM'])\n",
    "bottom3flights.iloc[6:]\n"
   ]
  },
  {
   "cell_type": "markdown",
   "metadata": {},
   "source": [
    "Order the data from cheapest to most expensive<br>\n",
    "Do you notice any trend in Cost Per Mile columns?"
   ]
  },
  {
   "cell_type": "code",
   "execution_count": 65,
   "metadata": {},
   "outputs": [
    {
     "data": {
      "text/html": [
       "<div>\n",
       "<style scoped>\n",
       "    .dataframe tbody tr th:only-of-type {\n",
       "        vertical-align: middle;\n",
       "    }\n",
       "\n",
       "    .dataframe tbody tr th {\n",
       "        vertical-align: top;\n",
       "    }\n",
       "\n",
       "    .dataframe thead th {\n",
       "        text-align: right;\n",
       "    }\n",
       "</style>\n",
       "<table border=\"1\" class=\"dataframe\">\n",
       "  <thead>\n",
       "    <tr style=\"text-align: right;\">\n",
       "      <th></th>\n",
       "      <th>Distance (miles)</th>\n",
       "      <th>Cost (USD)</th>\n",
       "      <th>pricePM</th>\n",
       "      <th>difference</th>\n",
       "      <th>AbsoluteDiffInCPM</th>\n",
       "    </tr>\n",
       "  </thead>\n",
       "  <tbody>\n",
       "    <tr>\n",
       "      <td>0</td>\n",
       "      <td>337</td>\n",
       "      <td>59.50</td>\n",
       "      <td>5.663866</td>\n",
       "      <td>1.427372</td>\n",
       "      <td>1.427372</td>\n",
       "    </tr>\n",
       "    <tr>\n",
       "      <td>2</td>\n",
       "      <td>967</td>\n",
       "      <td>124.50</td>\n",
       "      <td>7.767068</td>\n",
       "      <td>3.530575</td>\n",
       "      <td>3.530575</td>\n",
       "    </tr>\n",
       "    <tr>\n",
       "      <td>7</td>\n",
       "      <td>522</td>\n",
       "      <td>474.50</td>\n",
       "      <td>1.100105</td>\n",
       "      <td>-3.136388</td>\n",
       "      <td>3.136388</td>\n",
       "    </tr>\n",
       "    <tr>\n",
       "      <td>1</td>\n",
       "      <td>2565</td>\n",
       "      <td>509.50</td>\n",
       "      <td>5.034347</td>\n",
       "      <td>0.797854</td>\n",
       "      <td>0.797854</td>\n",
       "    </tr>\n",
       "    <tr>\n",
       "      <td>5</td>\n",
       "      <td>2586</td>\n",
       "      <td>559.50</td>\n",
       "      <td>4.621984</td>\n",
       "      <td>0.385490</td>\n",
       "      <td>0.385490</td>\n",
       "    </tr>\n",
       "    <tr>\n",
       "      <td>4</td>\n",
       "      <td>2398</td>\n",
       "      <td>696.23</td>\n",
       "      <td>3.444264</td>\n",
       "      <td>-0.792229</td>\n",
       "      <td>0.792229</td>\n",
       "    </tr>\n",
       "    <tr>\n",
       "      <td>8</td>\n",
       "      <td>1499</td>\n",
       "      <td>737.50</td>\n",
       "      <td>2.032542</td>\n",
       "      <td>-2.203951</td>\n",
       "      <td>2.203951</td>\n",
       "    </tr>\n",
       "    <tr>\n",
       "      <td>3</td>\n",
       "      <td>5124</td>\n",
       "      <td>1480.40</td>\n",
       "      <td>3.461227</td>\n",
       "      <td>-0.775267</td>\n",
       "      <td>0.775267</td>\n",
       "    </tr>\n",
       "    <tr>\n",
       "      <td>6</td>\n",
       "      <td>7412</td>\n",
       "      <td>1481.50</td>\n",
       "      <td>5.003037</td>\n",
       "      <td>0.766544</td>\n",
       "      <td>0.766544</td>\n",
       "    </tr>\n",
       "  </tbody>\n",
       "</table>\n",
       "</div>"
      ],
      "text/plain": [
       "   Distance (miles)  Cost (USD)   pricePM  difference  AbsoluteDiffInCPM\n",
       "0               337       59.50  5.663866    1.427372           1.427372\n",
       "2               967      124.50  7.767068    3.530575           3.530575\n",
       "7               522      474.50  1.100105   -3.136388           3.136388\n",
       "1              2565      509.50  5.034347    0.797854           0.797854\n",
       "5              2586      559.50  4.621984    0.385490           0.385490\n",
       "4              2398      696.23  3.444264   -0.792229           0.792229\n",
       "8              1499      737.50  2.032542   -2.203951           2.203951\n",
       "3              5124     1480.40  3.461227   -0.775267           0.775267\n",
       "6              7412     1481.50  5.003037    0.766544           0.766544"
      ]
     },
     "execution_count": 65,
     "metadata": {},
     "output_type": "execute_result"
    }
   ],
   "source": [
    "orderflights=flights.sort_values(by=['Cost (USD)'])\n",
    "orderflights"
   ]
  },
  {
   "cell_type": "markdown",
   "metadata": {},
   "source": [
    "\n",
    "Select the top three flights in terms of Cost\n",
    "Select the bottom three flights in terms of Cost\n",
    "\n",
    "Compare the two sub-sets - are there any general trends evident?"
   ]
  },
  {
   "cell_type": "code",
   "execution_count": 66,
   "metadata": {},
   "outputs": [
    {
     "name": "stdout",
     "output_type": "stream",
     "text": [
      "   Distance (miles)  Cost (USD)   pricePM  difference  AbsoluteDiffInCPM\n",
      "0               337        59.5  5.663866    1.427372           1.427372\n",
      "2               967       124.5  7.767068    3.530575           3.530575\n",
      "7               522       474.5  1.100105   -3.136388           3.136388\n",
      "   Distance (miles)  Cost (USD)   pricePM  difference  AbsoluteDiffInCPM\n",
      "8              1499       737.5  2.032542   -2.203951           2.203951\n",
      "3              5124      1480.4  3.461227   -0.775267           0.775267\n",
      "6              7412      1481.5  5.003037    0.766544           0.766544\n"
     ]
    }
   ],
   "source": [
    "orderflights=flights.sort_values(by=['Cost (USD)'])\n",
    "top3=orderflights.iloc[:3]\n",
    "bottom3=orderflights.iloc[6:]\n",
    "print(top3)\n",
    "print(bottom3)"
   ]
  }
 ],
 "metadata": {
  "kernelspec": {
   "display_name": "Python 3",
   "language": "python",
   "name": "python3"
  },
  "language_info": {
   "codemirror_mode": {
    "name": "ipython",
    "version": 3
   },
   "file_extension": ".py",
   "mimetype": "text/x-python",
   "name": "python",
   "nbconvert_exporter": "python",
   "pygments_lexer": "ipython3",
   "version": "3.7.4"
  }
 },
 "nbformat": 4,
 "nbformat_minor": 2
}
